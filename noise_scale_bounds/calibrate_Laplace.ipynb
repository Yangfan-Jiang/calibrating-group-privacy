{
 "cells": [
  {
   "cell_type": "code",
   "execution_count": 1,
   "id": "94d8cd18-7d27-4248-b7b3-5d40dba60f70",
   "metadata": {},
   "outputs": [],
   "source": [
    "from scipy.special import comb, perm\n",
    "from scipy import integrate\n",
    "from scipy.stats import norm, laplace\n",
    "import numpy as np\n",
    "\n",
    "from autodp import rdp_bank, rdp_acct, dp_acct,privacy_calibrator\n",
    "\n",
    "from decimal import *"
   ]
  },
  {
   "cell_type": "code",
   "execution_count": 2,
   "id": "64f27fc8-730f-4db6-9992-5a322b674ace",
   "metadata": {},
   "outputs": [],
   "source": [
    "def integrand_lap(x, alpha, sigma, m, probs):\n",
    "    sum_ = 0.0\n",
    "    for i in range(m+1):\n",
    "        sum_ += probs[i]*laplace.pdf(x, loc=i, scale=sigma)\n",
    "    sum_ /= laplace.pdf(x, loc=0, scale=sigma)\n",
    "    sum_ = (sum_ ** alpha) * laplace.pdf(x, loc=0, scale=sigma)\n",
    "    return sum_\n",
    "\n",
    "def compute_group_rdp_lap(q, alpha, sigma, m):\n",
    "    probs = [comb(m, i) * (1-q)**(m-i) * q**i for i in range(m+1)]\n",
    "    I = integrate.quad(integrand_lap, -sigma*10, sigma*10, args=(alpha, sigma, m, probs))\n",
    "    return np.log(I[0]) / (alpha-1)"
   ]
  },
  {
   "cell_type": "code",
   "execution_count": 3,
   "id": "26f3b5cd-82bc-417a-b090-f3ff51f61f62",
   "metadata": {},
   "outputs": [],
   "source": [
    "def rdp2dp(rdp, bad_event, alpha):\n",
    "    \"\"\"\n",
    "    convert RDP to DP, ref (Proposition 12):\n",
    "    Canonne, Clément L., Gautam Kamath, and Thomas Steinke. The discrete gaussian for differential privacy. In NeurIPS, 2020.\n",
    "    \"\"\"\n",
    "    eps_dp = Decimal(rdp) + Decimal(1.0)/Decimal(alpha-1) * ((Decimal(1.0)/Decimal(bad_event)).ln() + Decimal(alpha-1)*Decimal(1-1.0/alpha).ln() - Decimal(alpha).ln())\n",
    "    return float(eps_dp)\n",
    "\n",
    "\n",
    "def naive_group_rdp_lap(alpha, sigma, q, m):\n",
    "    \"\"\"\n",
    "    Suppose m=2^c for c \\in Z\n",
    "    \"\"\"\n",
    "    alpha = alpha * m\n",
    "\n",
    "    func_laplace = lambda x: rdp_bank.RDP_laplace({'b': sigma}, x)\n",
    "\n",
    "    # declare the moment accountants\n",
    "    acct1 = rdp_acct.anaRDPacct()\n",
    "\n",
    "    acct1.compose_poisson_subsampled_mechanisms(func_laplace, q, coeff=1)\n",
    "\n",
    "    rdp = acct1.get_rdp([alpha, 16])[0]\n",
    "    \n",
    "    c = np.log2(m)\n",
    "    \n",
    "    return float(3**c * rdp)\n",
    "\n",
    "\n",
    "def exact_rdp_upd_lap(alpha, sigma, q, m):\n",
    "    sum_ = Decimal(0.0)\n",
    "    \n",
    "    p_r = [Decimal(comb(m, k, exact=True)) * Decimal(q)**Decimal(k) * Decimal(1-q)**Decimal(m-k) for k in range(0, m+1)]\n",
    "    \n",
    "    for i in range(0, m+1):\n",
    "        rdp_lap = Decimal(alpha) * Decimal(np.e)**Decimal((alpha-1)*i/sigma) / Decimal(2*alpha-1) + Decimal(alpha-1) * Decimal(np.e)**Decimal(-alpha*i/sigma) / Decimal(2*alpha-1) \n",
    "        sum_ +=  p_r[i]*rdp_lap\n",
    "    rdp = sum_.ln() / Decimal(alpha-1)\n",
    "    return float(rdp)"
   ]
  },
  {
   "cell_type": "code",
   "execution_count": 4,
   "id": "b3407069-92ee-407a-a5c2-ba4c8bdc4231",
   "metadata": {},
   "outputs": [],
   "source": [
    "def calibrating_lap_noise_lbd(q, m, alpha=4, tau=0.5, t=1, err=1e-4):\n",
    "    \"\"\"\n",
    "    Calibrate noise to privacy budgets\n",
    "    \"\"\"\n",
    "    sigma_max = 1000\n",
    "    sigma_min = 2\n",
    "    \n",
    "    def binary_search(left, right):\n",
    "        mid = (left + right) / 2\n",
    "        \n",
    "        lbd = t*compute_group_rdp_lap(q, alpha, mid, m)\n",
    "        ubd = t*compute_group_rdp_lap(q, alpha, left, m)\n",
    "        \n",
    "        if ubd > tau and lbd > tau:    # min noise & mid noise are too small\n",
    "            left = mid\n",
    "        elif ubd > tau and lbd < tau:  # mid noise is too large\n",
    "            right = mid\n",
    "        else:\n",
    "            print(\"an error occurs in binary search\")\n",
    "            return -1\n",
    "        return left, right\n",
    "        \n",
    "    # check\n",
    "    while t*compute_group_rdp_lap(q, alpha, sigma_max, m) > tau:\n",
    "        sigma_max *= 5\n",
    "        if sigma_max > 1e10:\n",
    "            print(\"sigma_max >\", sigma_max)\n",
    "            return -1\n",
    "    \n",
    "    while sigma_max-sigma_min > err:\n",
    "        sigma_min, sigma_max = binary_search(sigma_min, sigma_max)\n",
    "    return sigma_max\n",
    "\n",
    "def calibrating_lap_noise_naive(q, m, alpha=4, tau=0.5, t=1, err=1e-4):\n",
    "    \"\"\"\n",
    "    Calibrate noise to privacy budgets\n",
    "    \"\"\"\n",
    "    sigma_max = 1000\n",
    "    sigma_min = 8\n",
    "    \n",
    "    def binary_search(left, right):\n",
    "        mid = (left + right) / 2\n",
    "        \n",
    "        lbd = t*naive_group_rdp_lap(alpha, mid, q, m)\n",
    "        ubd = t*naive_group_rdp_lap(alpha, left, q, m)\n",
    "        \n",
    "        if ubd > tau and lbd > tau:    # min noise & mid noise are too small\n",
    "            left = mid\n",
    "        elif ubd > tau and lbd < tau:  # mid noise is too large\n",
    "            right = mid\n",
    "        else:\n",
    "            print(\"an error occurs in binary search\")\n",
    "            return -1\n",
    "        return left, right\n",
    "        \n",
    "    # check\n",
    "    while t*naive_group_rdp_lap(alpha, sigma_max, q, m) > tau:\n",
    "        sigma_max *= 5\n",
    "        if sigma_max > 1e10:\n",
    "            print(\"sigma_max >\", sigma_max)\n",
    "            return -1\n",
    "    \n",
    "    while sigma_max-sigma_min > err:\n",
    "        sigma_min, sigma_max = binary_search(sigma_min, sigma_max)\n",
    "    return sigma_max\n",
    "\n",
    "\n",
    "def calibrating_lap_noise_ours(q, m, alpha=4, tau=0.5, t=1, err=1e-4):\n",
    "    \"\"\"\n",
    "    Calibrate noise to privacy budgets\n",
    "    \"\"\"\n",
    "    sigma_max = 1000\n",
    "    sigma_min = 8\n",
    "    \n",
    "    def binary_search(left, right):\n",
    "        mid = (left + right) / 2\n",
    "        \n",
    "        lbd = t*exact_rdp_upd_lap(alpha, mid, q, m)\n",
    "        ubd = t*exact_rdp_upd_lap(alpha, left, q, m)\n",
    "        \n",
    "        if ubd > tau and lbd > tau:    # min noise & mid noise are too small\n",
    "            left = mid\n",
    "        elif ubd > tau and lbd < tau:  # mid noise is too large\n",
    "            right = mid\n",
    "        else:\n",
    "            print(\"an error occurs in binary search\")\n",
    "            return -1\n",
    "        return left, right\n",
    "        \n",
    "    # check\n",
    "    while t*exact_rdp_upd_lap(alpha, sigma_max, q, m) > tau:\n",
    "        sigma_max *= 5\n",
    "        if sigma_max > 1e10:\n",
    "            print(\"sigma_max >\", sigma_max)\n",
    "            return -1\n",
    "    \n",
    "    while sigma_max-sigma_min > err:\n",
    "        sigma_min, sigma_max = binary_search(sigma_min, sigma_max)\n",
    "    return sigma_max"
   ]
  },
  {
   "cell_type": "markdown",
   "id": "055a9e55-cf1c-4b8b-ab7d-db131197b013",
   "metadata": {},
   "source": [
    "## Subsampled Laplace - Varying $m$"
   ]
  },
  {
   "cell_type": "code",
   "execution_count": 5,
   "id": "df5cb11d-fbe1-4df1-872a-a7d818264461",
   "metadata": {},
   "outputs": [
    {
     "name": "stdout",
     "output_type": "stream",
     "text": [
      "alpha=4,tau=1.0,eps=4.087861628831665,\n",
      "m=16, naive=34.03515625,upd=26.1640625,lbd=14.8526611328125\n",
      "\n"
     ]
    },
    {
     "name": "stderr",
     "output_type": "stream",
     "text": [
      "<ipython-input-2-f6568612d9f8>:11: IntegrationWarning: The maximum number of subdivisions (50) has been achieved.\n",
      "  If increasing the limit yields no improvement it is advised to analyze \n",
      "  the integrand in order to determine the difficulties.  If the position of a \n",
      "  local difficulty can be determined (singularity, discontinuity) one will \n",
      "  probably gain from splitting up the interval and calling the integrator \n",
      "  on the subranges.  Perhaps a special-purpose integrator should be used.\n",
      "  I = integrate.quad(integrand_lap, -sigma*10, sigma*10, args=(alpha, sigma, m, probs))\n"
     ]
    },
    {
     "name": "stdout",
     "output_type": "stream",
     "text": [
      "m=32, naive=83.501953125,upd=42.693359375,lbd=29.8372802734375\n",
      "\n"
     ]
    },
    {
     "name": "stderr",
     "output_type": "stream",
     "text": [
      "<ipython-input-2-f6568612d9f8>:11: IntegrationWarning: The occurrence of roundoff error is detected, which prevents \n",
      "  the requested tolerance from being achieved.  The error may be \n",
      "  underestimated.\n",
      "  I = integrate.quad(integrand_lap, -sigma*10, sigma*10, args=(alpha, sigma, m, probs))\n"
     ]
    },
    {
     "name": "stdout",
     "output_type": "stream",
     "text": [
      "m=64, naive=204.77734375,upd=73.935546875,lbd=59.867431640625\n",
      "\n",
      "m=128, naive=501.759765625,upd=134.90625,lbd=119.927734375\n",
      "\n",
      "m=256, naive=1229.33984375,upd=256.0,lbd=240.1092529296875\n",
      "\n"
     ]
    }
   ],
   "source": [
    "#alpha = 16\n",
    "q = 0.03\n",
    "\n",
    "iters = 500\n",
    "\n",
    "m_list = [16, 32, 64, 128, 256]\n",
    "\n",
    "alpha = 4\n",
    "tau = 1.0\n",
    "\n",
    "delta = 1e-5\n",
    "\n",
    "naive_list = []\n",
    "upd_list = []\n",
    "lbd_list = []\n",
    "\n",
    "dp_eps = rdp2dp(tau,delta,alpha)\n",
    "print( \"alpha={},tau={},eps={},\".format(alpha, tau, dp_eps) )\n",
    "\n",
    "for m in m_list:\n",
    "    naive = 1e10\n",
    "    if abs(np.log2(m)-int(np.log2(m))) < 0.00001:\n",
    "        naive = calibrating_lap_noise_naive(q, m, alpha=alpha, tau=tau, t=iters, err=1e-1)\n",
    "    upd = calibrating_lap_noise_ours(q, m, alpha=alpha, tau=tau, t=iters, err=1e-1)\n",
    "    lbd = calibrating_lap_noise_lbd(q, m, alpha=alpha, tau=tau, t=iters, err=1e-1)\n",
    "    print(\"m={}, naive={},upd={},lbd={}\".format(m, naive, upd, lbd))\n",
    "    print(\"\")\n",
    "    naive_list.append(naive)\n",
    "    upd_list.append(upd)\n",
    "    lbd_list.append(lbd)"
   ]
  },
  {
   "cell_type": "code",
   "execution_count": 6,
   "id": "a56ba1d1-3f87-4590-8f9d-2606241ef72e",
   "metadata": {},
   "outputs": [
    {
     "data": {
      "image/png": "[encoded data removed]",
      "text/plain": [
       "<Figure size 432x302.4 with 1 Axes>"
      ]
     },
     "metadata": {
      "needs_background": "light"
     },
     "output_type": "display_data"
    }
   ],
   "source": [
    "import matplotlib.pyplot as plt\n",
    "from matplotlib.pyplot import MultipleLocator\n",
    "import numpy as np\n",
    "\n",
    "\n",
    "plt.figure(figsize=(6, 4.2))\n",
    "\n",
    "plt.rcParams['mathtext.fontset'] = 'cm'\n",
    "\n",
    "\n",
    "{'cursive', 'fantasy', 'monospace', 'sans', 'sans serif', 'sans-serif', 'serif'}\n",
    "\n",
    "hfont = {'fontname':'serif'}\n",
    "\n",
    "plt.xlabel(r'$m$', fontsize=30, **hfont)\n",
    "plt.xticks(fontsize=28, **hfont)\n",
    "plt.ylabel(r'$b$', fontsize=30)\n",
    "plt.yticks(fontsize=28, **hfont)\n",
    "\n",
    "plt.scatter(m_list, naive_list, label='Baseline', c='b', marker='^', s=120)\n",
    "plt.plot(m_list, upd_list, lw=6, label='Ours', c='black')\n",
    "plt.plot(m_list, lbd_list, lw=6, label='Lower Bound', c='#ca0020', ls='--')\n",
    "\n",
    "\n",
    "plt.grid(axis='x',linestyle='--')\n",
    "plt.grid(axis='y',linestyle='--')\n",
    "\n",
    "\n",
    "plt.yscale('log', base=10)\n",
    "plt.xscale('log', base=2)\n",
    "\n",
    "#plt.gca().xaxis.set_major_locator(MultipleLocator(800))\n",
    "#plt.gca().yaxis.set_major_locator(MultipleLocator(5))\n",
    "\n",
    "plt.ylim((10, naive_list[-1]*1.5))\n",
    "\n",
    "#plt.xlim((0, 2700))\n",
    "\n",
    "plt.title(r'$\\tau={}, q={}, T={}$'.format(tau, q, iters), fontsize = 30)\n",
    "\n",
    "\n",
    "plt.tight_layout()\n",
    "\n",
    "\n",
    "#plt.savefig('figures/lap_rdp_m.jpg', dpi=300)\n",
    "#plt.savefig('figures/lap_rdp_m.pdf', format='pdf', transparent=True)\n",
    "\n",
    "plt.show()"
   ]
  },
  {
   "cell_type": "code",
   "execution_count": null,
   "id": "b8d32078-7334-4ff2-87e8-7f26c926d773",
   "metadata": {},
   "outputs": [],
   "source": []
  },
  {
   "cell_type": "markdown",
   "id": "69dc4450-1aff-49ce-911f-03cd8b60baa3",
   "metadata": {},
   "source": [
    "## Varying $\\tau$"
   ]
  },
  {
   "cell_type": "code",
   "execution_count": 7,
   "id": "05cc09b3-a2ff-45c3-a79b-994b04a750a5",
   "metadata": {},
   "outputs": [
    {
     "name": "stderr",
     "output_type": "stream",
     "text": [
      "<ipython-input-2-f6568612d9f8>:11: IntegrationWarning: The maximum number of subdivisions (50) has been achieved.\n",
      "  If increasing the limit yields no improvement it is advised to analyze \n",
      "  the integrand in order to determine the difficulties.  If the position of a \n",
      "  local difficulty can be determined (singularity, discontinuity) one will \n",
      "  probably gain from splitting up the interval and calling the integrator \n",
      "  on the subranges.  Perhaps a special-purpose integrator should be used.\n",
      "  I = integrate.quad(integrand_lap, -sigma*10, sigma*10, args=(alpha, sigma, m, probs))\n",
      "<ipython-input-2-f6568612d9f8>:11: IntegrationWarning: The occurrence of roundoff error is detected, which prevents \n",
      "  the requested tolerance from being achieved.  The error may be \n",
      "  underestimated.\n",
      "  I = integrate.quad(integrand_lap, -sigma*10, sigma*10, args=(alpha, sigma, m, probs))\n"
     ]
    },
    {
     "name": "stdout",
     "output_type": "stream",
     "text": [
      "tau=0.25, naive=409.66796875,upd=148.408203125,lbd=119.0140380859375\n",
      "eps=3.337861628831665\n",
      "\n",
      "tau=0.5, naive=289.6640625,upd=104.75390625,lbd=84.59814453125\n",
      "eps=3.587861628831665\n",
      "\n",
      "tau=1, naive=204.77734375,upd=73.935546875,lbd=59.867431640625\n",
      "eps=4.087861628831665\n",
      "\n",
      "tau=2, naive=144.71484375,upd=52.078125,lbd=42.20263671875\n",
      "eps=5.087861628831665\n",
      "\n",
      "tau=4, naive=102.271484375,upd=36.638671875,lbd=29.654541015625\n",
      "eps=7.087861628831665\n",
      "\n"
     ]
    }
   ],
   "source": [
    "#alpha = 16\n",
    "sigma = 32\n",
    "q = 0.03\n",
    "m = 64\n",
    "\n",
    "iters = 500\n",
    "\n",
    "tau_list = [0.25, 0.5, 1, 2, 4]\n",
    "\n",
    "alpha = 4\n",
    "tau = 1.0\n",
    "\n",
    "delta = 1e-5\n",
    "\n",
    "naive_list = []\n",
    "upd_list = []\n",
    "lbd_list = []\n",
    "\n",
    "\n",
    "for tau in tau_list:\n",
    "    naive = calibrating_lap_noise_naive(q, m, alpha=alpha, tau=tau, t=iters, err=1e-1)\n",
    "    upd = calibrating_lap_noise_ours(q, m, alpha=alpha, tau=tau, t=iters, err=1e-1)\n",
    "    lbd = calibrating_lap_noise_lbd(q, m, alpha=alpha, tau=tau, t=iters, err=1e-1)\n",
    "    print(\"tau={}, naive={},upd={},lbd={}\".format(tau, naive, upd, lbd))\n",
    "    print(\"eps={}\".format(rdp2dp(tau,delta,alpha)) )\n",
    "    print(\"\")\n",
    "    naive_list.append(naive)\n",
    "    upd_list.append(upd)\n",
    "    lbd_list.append(lbd)"
   ]
  },
  {
   "cell_type": "code",
   "execution_count": 8,
   "id": "b777d69e-bb9d-4d63-bb46-b6f3f52a6bfc",
   "metadata": {},
   "outputs": [
    {
     "data": {
      "image/png": "[encoded data removed]",
      "text/plain": [
       "<Figure size 432x302.4 with 1 Axes>"
      ]
     },
     "metadata": {
      "needs_background": "light"
     },
     "output_type": "display_data"
    }
   ],
   "source": [
    "import matplotlib.pyplot as plt\n",
    "from matplotlib.pyplot import MultipleLocator\n",
    "import numpy as np\n",
    "\n",
    "\n",
    "plt.figure(figsize=(6, 4.2))\n",
    "\n",
    "plt.rcParams['mathtext.fontset'] = 'cm'\n",
    "\n",
    "\n",
    "{'cursive', 'fantasy', 'monospace', 'sans', 'sans serif', 'sans-serif', 'serif'}\n",
    "\n",
    "hfont = {'fontname':'serif'}\n",
    "\n",
    "plt.xlabel(r'$\\tau$', fontsize=30, **hfont)\n",
    "plt.xticks(fontsize=28, **hfont)\n",
    "plt.ylabel(r'$b$', fontsize=30)\n",
    "plt.yticks(fontsize=28, **hfont)\n",
    "\n",
    "plt.plot(tau_list, naive_list, lw=6, label='Baseline', c='b', ls=':')\n",
    "plt.plot(tau_list, upd_list, lw=6, label='Ours', c='black')\n",
    "plt.plot(tau_list, lbd_list, lw=6, label='Lower Bound', c='#ca0020', ls='--')\n",
    "\n",
    "plt.grid(axis='x',linestyle='--')\n",
    "plt.grid(axis='y',linestyle='--')\n",
    "\n",
    "plt.yscale('log', base=10)\n",
    "plt.xscale('log', base=2)\n",
    "\n",
    "#plt.gca().xaxis.set_major_locator(MultipleLocator(800))\n",
    "#plt.gca().yaxis.set_major_locator(MultipleLocator(5))\n",
    "\n",
    "plt.ylim((10, naive_list[0]*2.8))\n",
    "\n",
    "#plt.xlim((0, 2700))\n",
    "\n",
    "plt.title('$m={}, q={}, T={}$'.format(m, q, iters), fontsize = 30)\n",
    "\n",
    "plt.tight_layout()\n",
    "\n",
    "\n",
    "#plt.savefig('figures/lap_rdp_tau.jpg', dpi=300)\n",
    "#plt.savefig('figures/lap_rdp_tau.pdf', format='pdf', transparent=True)\n",
    "\n",
    "plt.show()"
   ]
  },
  {
   "cell_type": "markdown",
   "id": "46f01008-0af3-466b-912b-61f2e80132a9",
   "metadata": {},
   "source": [
    "## Varying $q$"
   ]
  },
  {
   "cell_type": "code",
   "execution_count": 9,
   "id": "5082881a-ab23-4576-92d9-d4fbd95ec6b9",
   "metadata": {},
   "outputs": [
    {
     "name": "stdout",
     "output_type": "stream",
     "text": [
      "q=0.01, naive=68.18359375,upd=32.037109375,lbd=19.8475341796875\n",
      "\n"
     ]
    },
    {
     "name": "stderr",
     "output_type": "stream",
     "text": [
      "<ipython-input-2-f6568612d9f8>:11: IntegrationWarning: The maximum number of subdivisions (50) has been achieved.\n",
      "  If increasing the limit yields no improvement it is advised to analyze \n",
      "  the integrand in order to determine the difficulties.  If the position of a \n",
      "  local difficulty can be determined (singularity, discontinuity) one will \n",
      "  probably gain from splitting up the interval and calling the integrator \n",
      "  on the subranges.  Perhaps a special-purpose integrator should be used.\n",
      "  I = integrate.quad(integrand_lap, -sigma*10, sigma*10, args=(alpha, sigma, m, probs))\n"
     ]
    },
    {
     "name": "stdout",
     "output_type": "stream",
     "text": [
      "q=0.02, naive=136.48046875,upd=53.349609375,lbd=39.8270263671875\n",
      "\n"
     ]
    },
    {
     "name": "stderr",
     "output_type": "stream",
     "text": [
      "<ipython-input-2-f6568612d9f8>:11: IntegrationWarning: The occurrence of roundoff error is detected, which prevents \n",
      "  the requested tolerance from being achieved.  The error may be \n",
      "  underestimated.\n",
      "  I = integrate.quad(integrand_lap, -sigma*10, sigma*10, args=(alpha, sigma, m, probs))\n"
     ]
    },
    {
     "name": "stdout",
     "output_type": "stream",
     "text": [
      "q=0.03, naive=204.77734375,upd=73.935546875,lbd=59.867431640625\n",
      "\n",
      "q=0.05, naive=341.37109375,upd=114.380859375,lbd=99.8873291015625\n",
      "\n",
      "q=0.07, naive=477.96484375,upd=154.583984375,lbd=139.9681396484375\n",
      "\n",
      "q=0.1, naive=682.85546875,upd=214.646484375,lbd=200.0284423828125\n",
      "\n",
      "q=0.12, naive=819.44921875,upd=254.66796875,lbd=240.1092529296875\n",
      "\n",
      "q=0.15, naive=1024.361328125,upd=314.609375,lbd=300.23046875\n",
      "\n"
     ]
    }
   ],
   "source": [
    "#alpha = 16\n",
    "sigma = 32\n",
    "m = 64\n",
    "tau = 1\n",
    "\n",
    "iters = 500\n",
    "\n",
    "q_list = [0.01, 0.02, 0.03, 0.05, 0.07, 0.10, 0.12, 0.15]\n",
    "\n",
    "naive_list = []\n",
    "upd_list = []\n",
    "lbd_list = []\n",
    "\n",
    "for q in q_list:\n",
    "    naive = calibrating_lap_noise_naive(q, m, alpha=alpha, tau=tau, t=iters, err=1e-1)\n",
    "    upd = calibrating_lap_noise_ours(q, m, alpha=alpha, tau=tau, t=iters, err=1e-1)\n",
    "    lbd = calibrating_lap_noise_lbd(q, m, alpha=alpha, tau=tau, t=iters, err=1e-1)\n",
    "    print(\"q={}, naive={},upd={},lbd={}\".format(q, naive, upd, lbd))\n",
    "    print(\"\")\n",
    "    naive_list.append(naive)\n",
    "    upd_list.append(upd)\n",
    "    lbd_list.append(lbd)"
   ]
  },
  {
   "cell_type": "code",
   "execution_count": 10,
   "id": "06b8d20c-b048-4a34-a43c-206297f9387a",
   "metadata": {},
   "outputs": [
    {
     "data": {
      "image/png": "[encoded data removed]",
      "text/plain": [
       "<Figure size 432x302.4 with 1 Axes>"
      ]
     },
     "metadata": {
      "needs_background": "light"
     },
     "output_type": "display_data"
    }
   ],
   "source": [
    "import matplotlib.pyplot as plt\n",
    "from matplotlib.pyplot import MultipleLocator\n",
    "import numpy as np\n",
    "\n",
    "\n",
    "plt.figure(figsize=(6, 4.2))\n",
    "\n",
    "plt.rcParams['mathtext.fontset'] = 'cm'\n",
    "\n",
    "\n",
    "{'cursive', 'fantasy', 'monospace', 'sans', 'sans serif', 'sans-serif', 'serif'}\n",
    "\n",
    "hfont = {'fontname':'serif'}\n",
    "\n",
    "plt.xlabel(r'$q$', fontsize=30, **hfont)\n",
    "plt.xticks(fontsize=28, **hfont)\n",
    "plt.ylabel(r'$b$', fontsize=30)\n",
    "plt.yticks(fontsize=28, **hfont)\n",
    "\n",
    "plt.plot(q_list, naive_list, lw=6, label='Baseline', c='b', ls=':')\n",
    "plt.plot(q_list, upd_list, lw=6, label='Ours', c='black')\n",
    "plt.plot(q_list, lbd_list, lw=6, label='Lower Bound', c='#ca0020', ls='--')\n",
    "\n",
    "plt.grid(axis='x',linestyle='--')\n",
    "plt.grid(axis='y',linestyle='--')\n",
    "\n",
    "\n",
    "\n",
    "plt.yscale('log', base=10)\n",
    "#plt.xscale('log', base=10)\n",
    "\n",
    "plt.gca().xaxis.set_major_locator(MultipleLocator(0.05))\n",
    "#plt.gca().yaxis.set_major_locator(MultipleLocator(0.03))\n",
    "\n",
    "plt.ylim((10, naive_list[-1]*2.0))\n",
    "\n",
    "plt.xlim((0, 0.16))\n",
    "\n",
    "plt.title(r'$m={}, \\tau={}, T={}$'.format(m, tau, iters), fontsize = 30)\n",
    "\n",
    "\n",
    "plt.tight_layout()\n",
    "\n",
    "#plt.savefig('figures/lap_rdp_q.jpg', dpi=300)\n",
    "#plt.savefig('figures/lap_rdp_q.pdf', format='pdf', transparent=True)\n",
    "\n",
    "plt.show()"
   ]
  },
  {
   "cell_type": "code",
   "execution_count": null,
   "id": "da65c09e-daf5-46e2-b715-c15b62db03f1",
   "metadata": {},
   "outputs": [],
   "source": []
  },
  {
   "cell_type": "markdown",
   "id": "46e45e24-6dc4-4f66-959f-8117d9b9f60d",
   "metadata": {},
   "source": [
    "## Varying $T$"
   ]
  },
  {
   "cell_type": "code",
   "execution_count": 11,
   "id": "220ef505-5de1-435a-bcaf-ea6524ff07d8",
   "metadata": {},
   "outputs": [
    {
     "name": "stderr",
     "output_type": "stream",
     "text": [
      "<ipython-input-2-f6568612d9f8>:11: IntegrationWarning: The maximum number of subdivisions (50) has been achieved.\n",
      "  If increasing the limit yields no improvement it is advised to analyze \n",
      "  the integrand in order to determine the difficulties.  If the position of a \n",
      "  local difficulty can be determined (singularity, discontinuity) one will \n",
      "  probably gain from splitting up the interval and calling the integrator \n",
      "  on the subranges.  Perhaps a special-purpose integrator should be used.\n",
      "  I = integrate.quad(integrand_lap, -sigma*10, sigma*10, args=(alpha, sigma, m, probs))\n",
      "<ipython-input-2-f6568612d9f8>:11: IntegrationWarning: The occurrence of roundoff error is detected, which prevents \n",
      "  the requested tolerance from being achieved.  The error may be \n",
      "  underestimated.\n",
      "  I = integrate.quad(integrand_lap, -sigma*10, sigma*10, args=(alpha, sigma, m, probs))\n"
     ]
    },
    {
     "name": "stdout",
     "output_type": "stream",
     "text": [
      "T=10, naive=28.70703125,upd=9.9375,lbd=7.725830078125\n",
      "\n",
      "T=50, naive=64.611328125,upd=22.955078125,lbd=18.446533203125\n",
      "\n",
      "T=100, naive=91.494140625,upd=32.703125,lbd=26.4261474609375\n",
      "\n",
      "T=500, naive=204.77734375,upd=73.935546875,lbd=59.867431640625\n",
      "\n",
      "T=1000, naive=289.6640625,upd=104.75390625,lbd=84.59814453125\n",
      "\n",
      "T=5000, naive=647.859375,upd=234.990234375,lbd=184.49560546875\n",
      "\n",
      "T=10000, naive=916.263671875,upd=332.591796875,lbd=252.474609375\n",
      "\n"
     ]
    }
   ],
   "source": [
    "#alpha = 16\n",
    "m = 64\n",
    "q = 0.03\n",
    "\n",
    "iters = 500\n",
    "\n",
    "\n",
    "alpha = 4\n",
    "tau = 1\n",
    "\n",
    "delta = 1e-5\n",
    "\n",
    "T_list = [10, 50, 100, 500, 1000, 5000, 10000]\n",
    "\n",
    "naive_list = []\n",
    "upd_list = []\n",
    "lbd_list = []\n",
    "\n",
    "for iters in T_list:\n",
    "    naive = calibrating_lap_noise_naive(q, m, alpha=alpha, tau=tau, t=iters, err=1e-1)\n",
    "    upd = calibrating_lap_noise_ours(q, m, alpha=alpha, tau=tau, t=iters, err=1e-1)\n",
    "    lbd = calibrating_lap_noise_lbd(q, m, alpha=alpha, tau=tau, t=iters, err=1e-1)\n",
    "    print(\"T={}, naive={},upd={},lbd={}\".format(iters, naive, upd, lbd))\n",
    "    print(\"\")\n",
    "    naive_list.append(naive)\n",
    "    upd_list.append(upd)\n",
    "    lbd_list.append(lbd)"
   ]
  },
  {
   "cell_type": "code",
   "execution_count": 12,
   "id": "4a5c9fae-02bd-4f59-a5a6-90e1c12015ef",
   "metadata": {},
   "outputs": [
    {
     "data": {
      "image/png": "[encoded data removed]",
      "text/plain": [
       "<Figure size 432x302.4 with 1 Axes>"
      ]
     },
     "metadata": {
      "needs_background": "light"
     },
     "output_type": "display_data"
    }
   ],
   "source": [
    "import matplotlib.pyplot as plt\n",
    "from matplotlib.pyplot import MultipleLocator\n",
    "import numpy as np\n",
    "\n",
    "\n",
    "plt.figure(figsize=(6, 4.2))\n",
    "\n",
    "plt.rcParams['mathtext.fontset'] = 'cm'\n",
    "\n",
    "\n",
    "{'cursive', 'fantasy', 'monospace', 'sans', 'sans serif', 'sans-serif', 'serif'}\n",
    "\n",
    "hfont = {'fontname':'serif'}\n",
    "\n",
    "plt.xlabel(r'$T$', fontsize=30, **hfont)\n",
    "plt.xticks(fontsize=28, **hfont)\n",
    "plt.ylabel(r'$b$', fontsize=30)\n",
    "plt.yticks(fontsize=28, **hfont)\n",
    "\n",
    "plt.plot(T_list, naive_list, lw=6, label='Baseline', c='b', ls=':')\n",
    "plt.plot(T_list, upd_list, lw=6, label='Ours', c='black')\n",
    "plt.plot(T_list, lbd_list, lw=6, label='Lower Bound', c='#ca0020', ls='--')\n",
    "\n",
    "plt.grid(axis='x',linestyle='--')\n",
    "plt.grid(axis='y',linestyle='--')\n",
    "\n",
    "\n",
    "\n",
    "plt.yscale('log', base=10)\n",
    "plt.xscale('log', base=10)\n",
    "\n",
    "#plt.gca().xaxis.set_major_locator(MultipleLocator(0.03))\n",
    "#plt.gca().yaxis.set_major_locator(MultipleLocator(0.03))\n",
    "\n",
    "plt.ylim((5, naive_list[-1]*2))\n",
    "\n",
    "#plt.xlim((0, 2700))\n",
    "\n",
    "plt.title(r'$m={}, \\tau={}, q={}$'.format(m, tau, q), fontsize = 30)\n",
    "\n",
    "\n",
    "plt.tight_layout()\n",
    "\n",
    "\n",
    "#plt.savefig('figures/lap_rdp_T.jpg', dpi=300)\n",
    "#plt.savefig('figures/lap_rdp_T.pdf', format='pdf', transparent=True)\n",
    "\n",
    "plt.show()"
   ]
  },
  {
   "cell_type": "code",
   "execution_count": null,
   "id": "6419888d-24c0-4221-8937-d410fb787d32",
   "metadata": {},
   "outputs": [],
   "source": []
  }
 ],
 "metadata": {
  "kernelspec": {
   "display_name": "Python 3",
   "language": "python",
   "name": "python3"
  },
  "language_info": {
   "codemirror_mode": {
    "name": "ipython",
    "version": 3
   },
   "file_extension": ".py",
   "mimetype": "text/x-python",
   "name": "python",
   "nbconvert_exporter": "python",
   "pygments_lexer": "ipython3",
   "version": "3.8.8"
  }
 },
 "nbformat": 4,
 "nbformat_minor": 5
}
