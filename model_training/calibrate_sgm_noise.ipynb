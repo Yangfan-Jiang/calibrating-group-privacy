{
 "cells": [
  {
   "cell_type": "code",
   "execution_count": 1,
   "id": "3e0ce9d4-bf0f-459b-aff0-ca8bf3463a4d",
   "metadata": {},
   "outputs": [],
   "source": [
    "from privacy_analysis import *"
   ]
  },
  {
   "cell_type": "markdown",
   "id": "ee5147bf-f5a1-42bf-903d-79cdaca7942d",
   "metadata": {},
   "source": [
    "## Varying group size"
   ]
  },
  {
   "cell_type": "code",
   "execution_count": 2,
   "id": "e0479a15-da96-4dec-8f5e-754dc61555c4",
   "metadata": {},
   "outputs": [
    {
     "name": "stdout",
     "output_type": "stream",
     "text": [
      "m = 8\n",
      "rdp : 19.094906449317932\n",
      "ours : 19.52065348625183\n",
      "==============\n",
      "m = 16\n",
      "rdp : 46.65294647216797\n",
      "ours : 31.14444077014923\n",
      "==============\n",
      "m = 24\n",
      "rdp : 78.74593675136566\n",
      "ours : 42.10608720779419\n",
      "==============\n",
      "m = 32\n",
      "rdp : 114.18654918670654\n",
      "ours : 52.82181262969971\n",
      "==============\n",
      "m = 40\n",
      "rdp : 152.34241545200348\n",
      "ours : 63.416661620140076\n",
      "==============\n",
      "m = 48\n",
      "rdp : 192.81160652637482\n",
      "ours : 73.94303381443024\n",
      "==============\n",
      "m = 56\n",
      "rdp : 235.31068801879883\n",
      "ours : 84.42712903022766\n",
      "==============\n",
      "m = 64\n",
      "rdp : 279.62946593761444\n",
      "ours : 94.88264262676239\n",
      "==============\n"
     ]
    }
   ],
   "source": [
    "q = 0.05\n",
    "epsilon = 4\n",
    "\n",
    "m_list = [8, 16, 24, 32, 40, 48, 56, 64]\n",
    "\n",
    "for m in m_list:\n",
    "    print(\"m =\", m)\n",
    "    rdp = calibrating_sgm_noise_rdp(q, epsilon, m, delta=1e-5, t=500, err=1e-3)\n",
    "    print(\"rdp :\", rdp)\n",
    "    \n",
    "    ours = calibrating_sgm_noise_ours(q, epsilon, m, delta=1e-5, t=500, err=1e-3)\n",
    "    print(\"ours :\", ours)\n",
    "    print(\"==============\")"
   ]
  },
  {
   "cell_type": "code",
   "execution_count": null,
   "id": "5fa62163-67ad-4649-b662-f1ed5b21fd4f",
   "metadata": {},
   "outputs": [],
   "source": []
  },
  {
   "cell_type": "markdown",
   "id": "d30f16a6-95bd-41ee-8e8e-463284b3b853",
   "metadata": {},
   "source": [
    "## Varying privacy parameter $\\epsilon$"
   ]
  },
  {
   "cell_type": "code",
   "execution_count": 3,
   "id": "1d158bd7-e8d5-46c7-b543-50602b725d1d",
   "metadata": {},
   "outputs": [
    {
     "name": "stdout",
     "output_type": "stream",
     "text": [
      "epsilon = 8\n",
      "rdp : 62.96054661273956\n",
      "ours : 29.204463362693787\n",
      "==============\n",
      "epsilon = 7\n",
      "rdp : 70.53824841976166\n",
      "ours : 32.637234926223755\n",
      "==============\n",
      "epsilon = 6\n",
      "rdp : 80.57754218578339\n",
      "ours : 37.39190638065338\n",
      "==============\n",
      "epsilon = 5\n",
      "rdp : 94.09128904342651\n",
      "ours : 43.51432740688324\n",
      "==============\n",
      "epsilon = 4\n",
      "rdp : 114.18654918670654\n",
      "ours : 52.82181262969971\n",
      "==============\n",
      "epsilon = 3\n",
      "rdp : 147.591912150383\n",
      "ours : 68.23325991630554\n",
      "==============\n",
      "epsilon = 2\n",
      "rdp : 211.9737958908081\n",
      "ours : 97.94802129268646\n",
      "==============\n"
     ]
    }
   ],
   "source": [
    "q = 0.05\n",
    "m = 32\n",
    "\n",
    "for epsilon in [8, 7, 6, 5, 4, 3, 2]:\n",
    "    print(\"epsilon =\", epsilon)\n",
    "    rdp = calibrating_sgm_noise_rdp(q, epsilon, m, delta=1e-5, t=500, err=1e-3)\n",
    "    print(\"rdp :\", rdp)\n",
    "    \n",
    "    ours = calibrating_sgm_noise_ours(q, epsilon, m, delta=1e-5, t=500, err=1e-3)\n",
    "    print(\"ours :\", ours)\n",
    "    print(\"==============\")"
   ]
  },
  {
   "cell_type": "code",
   "execution_count": null,
   "id": "cb8ad533-1c04-46fe-a1ec-f262cbde435a",
   "metadata": {},
   "outputs": [],
   "source": []
  }
 ],
 "metadata": {
  "kernelspec": {
   "display_name": "Python 3",
   "language": "python",
   "name": "python3"
  },
  "language_info": {
   "codemirror_mode": {
    "name": "ipython",
    "version": 3
   },
   "file_extension": ".py",
   "mimetype": "text/x-python",
   "name": "python",
   "nbconvert_exporter": "python",
   "pygments_lexer": "ipython3",
   "version": "3.8.8"
  }
 },
 "nbformat": 4,
 "nbformat_minor": 5
}
